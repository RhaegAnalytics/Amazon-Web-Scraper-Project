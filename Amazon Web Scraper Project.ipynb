{
 "cells": [
  {
   "cell_type": "code",
   "execution_count": null,
   "id": "d104d727-62e5-414b-9175-82546de76bc8",
   "metadata": {},
   "outputs": [],
   "source": [
    "#import libraries\n",
    "from bs4 import BeautifulSoup\n",
    "import requests\n",
    "import time\n",
    "import datetime\n"
   ]
  },
  {
   "cell_type": "code",
   "execution_count": 173,
   "id": "b80e9f4d-92d4-4b7f-947d-075fc5e19e52",
   "metadata": {
    "scrolled": true
   },
   "outputs": [
    {
     "name": "stdout",
     "output_type": "stream",
     "text": [
      "\n",
      "             OnePlus 13 | Smarter with OnePlus AI (12GB RAM, 256GB Storage Arctic Dawn)\n",
      "            \n",
      "\n",
      "                                 69,998\n",
      "                                 \n",
      "                                  .\n",
      "                                 \n",
      "\n"
     ]
    }
   ],
   "source": [
    "#connect to website\n",
    "URL =' https://www.amazon.in/OnePlus-Smarter-256GB-Storage-Arctic/dp/B0DQ8R1DB5/ref=sr_1_2_sspa?crid=2AS0SKKJ67V62&dib=eyJ2IjoiMSJ9.tu-C4isrol_QbjuPokPCooCtWQwbFBdK7s3qnHdX-wtuQxUsRV2OPUTfTMtVV1Zf7fNwI6kzZfKrvU0nTLsG_J4lE8Q6vIGO8sj8qxNmyfW2ylCOMasCGXWDNICYLaRW--odt6_FAvCUEMKPP8EyvGcfWtWKld311L1iYrbLwwzypPxh4n5DACRQIvqJwOgKgSmHX44kOBkKPuFl8z4dvHPXhIB7Za3IInFyB6jbo38.V_Hh38uC3FRwI7MuN-0zQUiP0xOULv2OHdtot1GJnIk&dib_tag=se&keywords=mobile%2Bphone%2Bunder%2B20000&qid=1740037809&sprefix=mobile%2Caps%2C223&sr=8-2-spons&sp_csd=d2lkZ2V0TmFtZT1zcF9hdGY&th=1'\n",
    "\n",
    "headers = {\"User-Agent\":\"Mozilla/5.0 (Windows NT 10.0; Win64; x64) AppleWebKit/537.36 (KHTML, like Gecko) Chrome/133.0.0.0 Safari/537.36\"}\n",
    "\n",
    "page = requests.get(URL,headers=headers)\n",
    "\n",
    "soup1 = BeautifulSoup(page.content,'html.parser')\n",
    "\n",
    "soup2 = BeautifulSoup(soup1.prettify(),'html.parser')\n",
    "\n",
    "title = soup2.find(\"span\",id=\"productTitle\").get_text()\n",
    "\n",
    "price = soup2.find(\"span\",class_=\"a-price-whole\").get_text()\n",
    "\n",
    "print(title)\n",
    "print(price)\n"
   ]
  },
  {
   "cell_type": "code",
   "execution_count": 198,
   "id": "69ad2c9f-cd7e-4afb-8169-f79eb1c17eae",
   "metadata": {},
   "outputs": [],
   "source": [
    "title = title.strip()\n",
    "price = price.strip()"
   ]
  },
  {
   "cell_type": "code",
   "execution_count": 177,
   "id": "d91a6de7-0dc2-4c51-894f-07dd73b37e5d",
   "metadata": {},
   "outputs": [
    {
     "name": "stdout",
     "output_type": "stream",
     "text": [
      "2025-02-20\n"
     ]
    }
   ],
   "source": [
    "Date = datetime.date.today()\n",
    "print(Date)"
   ]
  },
  {
   "cell_type": "code",
   "execution_count": 179,
   "id": "f0400c06-3635-4fe7-acc2-1053d6b45bc3",
   "metadata": {},
   "outputs": [],
   "source": [
    "import csv\n",
    "\n",
    "header = ['Title','Price','Date']\n",
    "\n",
    "data = [title,price,Date]\n",
    "\n",
    "#with open('Amazonwebscraperdataset.csv','w',newline=\"\",encoding=\"utf8\") as f:\n",
    "    #writer = csv.writer(f)\n",
    "    #writer.writerow(header)\n",
    "    #writer.writerow(data)\n",
    "\n",
    "\n"
   ]
  },
  {
   "cell_type": "code",
   "execution_count": 203,
   "id": "438fb0be-ebcb-4fa8-ab9c-a62d06f58ad4",
   "metadata": {
    "scrolled": true
   },
   "outputs": [
    {
     "data": {
      "text/html": [
       "<div>\n",
       "<style scoped>\n",
       "    .dataframe tbody tr th:only-of-type {\n",
       "        vertical-align: middle;\n",
       "    }\n",
       "\n",
       "    .dataframe tbody tr th {\n",
       "        vertical-align: top;\n",
       "    }\n",
       "\n",
       "    .dataframe thead th {\n",
       "        text-align: right;\n",
       "    }\n",
       "</style>\n",
       "<table border=\"1\" class=\"dataframe\">\n",
       "  <thead>\n",
       "    <tr style=\"text-align: right;\">\n",
       "      <th></th>\n",
       "      <th>Title</th>\n",
       "      <th>Price</th>\n",
       "      <th>Date</th>\n",
       "    </tr>\n",
       "  </thead>\n",
       "  <tbody>\n",
       "    <tr>\n",
       "      <th>0</th>\n",
       "      <td>OnePlus 13 | Smarter with OnePlus AI (12GB RAM...</td>\n",
       "      <td>69,998\\n                                 \\n   ...</td>\n",
       "      <td>2025-02-20</td>\n",
       "    </tr>\n",
       "    <tr>\n",
       "      <th>1</th>\n",
       "      <td>OnePlus 13 | Smarter with OnePlus AI (12GB RAM...</td>\n",
       "      <td>69,998\\n                                 \\n   ...</td>\n",
       "      <td>2025-02-20</td>\n",
       "    </tr>\n",
       "  </tbody>\n",
       "</table>\n",
       "</div>"
      ],
      "text/plain": [
       "                                               Title  \\\n",
       "0  OnePlus 13 | Smarter with OnePlus AI (12GB RAM...   \n",
       "1  OnePlus 13 | Smarter with OnePlus AI (12GB RAM...   \n",
       "\n",
       "                                               Price        Date  \n",
       "0  69,998\\n                                 \\n   ...  2025-02-20  \n",
       "1  69,998\\n                                 \\n   ...  2025-02-20  "
      ]
     },
     "execution_count": 203,
     "metadata": {},
     "output_type": "execute_result"
    }
   ],
   "source": [
    "import pandas as pd\n",
    "\n",
    "df = pd.read_csv(r\"C:\\Users\\joshu\\Amazonwebscraperdataset.csv\")\n",
    "df\n"
   ]
  },
  {
   "cell_type": "code",
   "execution_count": 183,
   "id": "77f7bf49-63d5-47e1-976b-1eb5d4cf4be2",
   "metadata": {},
   "outputs": [],
   "source": [
    "#appending the data to the csv\n",
    "with open('Amazonwebscraperdataset.csv','a+',newline=\"\",encoding=\"utf8\") as f:\n",
    "    writer = csv.writer(f)\n",
    "    writer.writerow(data)\n"
   ]
  },
  {
   "cell_type": "code",
   "execution_count": 211,
   "id": "7802354c-ba4a-4137-810b-d852ce49cd7d",
   "metadata": {},
   "outputs": [],
   "source": [
    "def check_price():\n",
    "    URL =' https://www.amazon.in/OnePlus-Smarter-256GB-Storage-Arctic/dp/B0DQ8R1DB5/ref=sr_1_2_sspa?crid=2AS0SKKJ67V62&dib=eyJ2IjoiMSJ9.tu-C4isrol_QbjuPokPCooCtWQwbFBdK7s3qnHdX-wtuQxUsRV2OPUTfTMtVV1Zf7fNwI6kzZfKrvU0nTLsG_J4lE8Q6vIGO8sj8qxNmyfW2ylCOMasCGXWDNICYLaRW--odt6_FAvCUEMKPP8EyvGcfWtWKld311L1iYrbLwwzypPxh4n5DACRQIvqJwOgKgSmHX44kOBkKPuFl8z4dvHPXhIB7Za3IInFyB6jbo38.V_Hh38uC3FRwI7MuN-0zQUiP0xOULv2OHdtot1GJnIk&dib_tag=se&keywords=mobile%2Bphone%2Bunder%2B20000&qid=1740037809&sprefix=mobile%2Caps%2C223&sr=8-2-spons&sp_csd=d2lkZ2V0TmFtZT1zcF9hdGY&th=1'\n",
    "\n",
    "    headers = {\"User-Agent\":\"Mozilla/5.0 (Windows NT 10.0; Win64; x64) AppleWebKit/537.36 (KHTML, like Gecko) Chrome/133.0.0.0 Safari/537.36\"}\n",
    "\n",
    "    page = requests.get(URL,headers=headers)\n",
    "\n",
    "    soup1 = BeautifulSoup(page.content,'html.parser')\n",
    "\n",
    "    soup2 = BeautifulSoup(soup1.prettify(),'html.parser')\n",
    "\n",
    "    title = soup2.find(\"span\",id=\"productTitle\").get_text().strip()\n",
    "\n",
    "    price = soup2.find(\"span\",class_=\"a-price-whole\").get_text().strip()\n",
    "\n",
    "    import datetime\n",
    "\n",
    "    Date = datetime.date.today()\n",
    "\n",
    "    import csv\n",
    "\n",
    "    header = ['Title','Price','Date']\n",
    "\n",
    "    data = [title,price,Date]\n",
    "\n",
    "    with open('Amazonwebscraperdataset.csv','a+',newline=\"\",encoding=\"utf8\") as f:\n",
    "        writer = csv.writer(f)\n",
    "        writer.writerow(data)\n",
    "    if (price < 65,000):\n",
    "        send_mail()"
   ]
  },
  {
   "cell_type": "code",
   "execution_count": null,
   "id": "7279f1f9-6ddb-4aa6-992a-c932493ea3dd",
   "metadata": {},
   "outputs": [],
   "source": [
    "while(True):\n",
    "    check_price()\n",
    "    time.sleep(86400)"
   ]
  },
  {
   "cell_type": "code",
   "execution_count": null,
   "id": "1aacf587-cce5-4909-be5f-043dca37ef3d",
   "metadata": {},
   "outputs": [],
   "source": [
    "import pandas as pd\n",
    "\n",
    "df = pd.read_csv(r\"C:\\Users\\joshu\\Amazonwebscraperdataset.csv\")\n",
    "\n",
    "df\n"
   ]
  },
  {
   "cell_type": "code",
   "execution_count": null,
   "id": "936676f0-86a9-4ff6-9e06-ab6623fef386",
   "metadata": {},
   "outputs": [],
   "source": []
  },
  {
   "cell_type": "code",
   "execution_count": null,
   "id": "ce95b1e3-52a2-4ebd-8851-e03b6b4ee504",
   "metadata": {},
   "outputs": [],
   "source": []
  },
  {
   "cell_type": "code",
   "execution_count": null,
   "id": "8f657a65-5128-4e83-bda0-a9de085349c2",
   "metadata": {},
   "outputs": [],
   "source": []
  },
  {
   "cell_type": "code",
   "execution_count": null,
   "id": "89fc491c-df2c-4359-9c0b-c7d02ebab1d0",
   "metadata": {},
   "outputs": [],
   "source": []
  },
  {
   "cell_type": "code",
   "execution_count": null,
   "id": "d956fd39-9351-410d-bd8c-5d643394fa2d",
   "metadata": {},
   "outputs": [],
   "source": []
  },
  {
   "cell_type": "code",
   "execution_count": null,
   "id": "855b6458-e193-45d1-bce8-061ef37ef609",
   "metadata": {},
   "outputs": [],
   "source": []
  },
  {
   "cell_type": "code",
   "execution_count": null,
   "id": "61f4ea88-6720-4ffa-8070-4183a54e5321",
   "metadata": {},
   "outputs": [],
   "source": []
  },
  {
   "cell_type": "code",
   "execution_count": null,
   "id": "d70c2550-1508-45a7-958e-6cace26662cf",
   "metadata": {},
   "outputs": [],
   "source": []
  },
  {
   "cell_type": "code",
   "execution_count": null,
   "id": "22c53915-0661-4328-ba83-41c3dd56aaa8",
   "metadata": {},
   "outputs": [],
   "source": []
  }
 ],
 "metadata": {
  "kernelspec": {
   "display_name": "Python [conda env:base] *",
   "language": "python",
   "name": "conda-base-py"
  },
  "language_info": {
   "codemirror_mode": {
    "name": "ipython",
    "version": 3
   },
   "file_extension": ".py",
   "mimetype": "text/x-python",
   "name": "python",
   "nbconvert_exporter": "python",
   "pygments_lexer": "ipython3",
   "version": "3.12.7"
  }
 },
 "nbformat": 4,
 "nbformat_minor": 5
}
